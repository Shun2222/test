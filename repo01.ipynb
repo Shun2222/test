{
 "cells": [
  {
   "cell_type": "code",
   "execution_count": 1,
   "metadata": {},
   "outputs": [
    {
     "name": "stdout",
     "output_type": "stream",
     "text": [
      "['AND ', 0, 0, 0, 1]\n",
      "['NAND ', 1, 1, 1, 0]\n",
      "['OR ', 0, 1, 1, 1]\n",
      "['XOR ', 0, 1, 1, 0]\n"
     ]
    }
   ],
   "source": [
    "import numpy as np\n",
    "\n",
    "#いずれの式も閾値は0とした\n",
    "def AND(x1, x2):\n",
    "    x = np.array([x1, x2])\n",
    "    w = np.array([0.5, 0.5])\n",
    "    b = -0.7\n",
    "    y = np.sum(w*x) + b\n",
    "    if y <= 0:\n",
    "    \treturn 0\n",
    "    return 1\n",
    "\n",
    "def NAND(x1, x2):\n",
    "    #NANDはANDの否定なのでANDの式のバイアス、重みを(-1)倍した値に設定した\n",
    "    x = np.array([x1, x2])\n",
    "    w = np.array([-0.5, -0.5])\n",
    "    b = 0.7\n",
    "    y = np.sum(w*x) + b\n",
    "    if y <= 0:\n",
    "    \treturn 0\n",
    "    return 1\n",
    "\n",
    "def OR(x1, x2):\n",
    "    #ORは(0,0)のみ計算結果がマイナスになるようにバイアスをマイナスの値に設定した\n",
    "    x = np.array([x1, x2])\n",
    "    w = np.array([0.5, 0.5])\n",
    "    b = -0.1\n",
    "    y = np.sum(w*x) + b\n",
    "    if y <= 0:\n",
    "    \treturn 0\n",
    "    return 1\n",
    "\n",
    "def XOR(x1, x2): \n",
    "\t#XORはNANDとORの結果のANDで表せる\n",
    "\tx = OR(x1, x2)\n",
    "\ty = NAND(x1, x2)\n",
    "\tz = AND(x, y)\n",
    "\tif z == 0:\n",
    "\t\treturn 0\n",
    "\treturn 1\n",
    "\n",
    "#import時など自分が実行された時でないときに実行されないようにする(if __name__ == '__main__':)\n",
    "if __name__ == '__main__':\n",
    "\ta = [['AND '],['NAND '],['OR '],['XOR ']]\n",
    "    #list a にそれぞれの結果を保存する\n",
    "\tfor xs in [(0, 0), (1, 0), (0, 1), (1, 1)]:\n",
    "\t\ta[0].append(AND(xs[0], xs[1]))\n",
    "\t\ta[1].append(NAND(xs[0], xs[1]))\n",
    "\t\ta[2].append(OR(xs[0], xs[1]))\n",
    "\t\ta[3].append(XOR(xs[0], xs[1]))\n",
    "    #結果の表示\n",
    "\tfor i in a:\n",
    "\t\tprint(i)\n"
   ]
  },
  {
   "cell_type": "code",
   "execution_count": null,
   "metadata": {},
   "outputs": [],
   "source": []
  }
 ],
 "metadata": {
  "kernelspec": {
   "display_name": "Python 3",
   "language": "python",
   "name": "python3"
  },
  "language_info": {
   "codemirror_mode": {
    "name": "ipython",
    "version": 3
   },
   "file_extension": ".py",
   "mimetype": "text/x-python",
   "name": "python",
   "nbconvert_exporter": "python",
   "pygments_lexer": "ipython3",
   "version": "3.7.4"
  }
 },
 "nbformat": 4,
 "nbformat_minor": 2
}
